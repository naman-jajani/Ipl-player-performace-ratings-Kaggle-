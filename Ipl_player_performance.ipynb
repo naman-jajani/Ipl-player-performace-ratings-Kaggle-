{
  "nbformat": 4,
  "nbformat_minor": 0,
  "metadata": {
    "colab": {
      "name": "Ipl player performance.ipynb",
      "provenance": []
    },
    "kernelspec": {
      "name": "python3",
      "display_name": "Python 3"
    }
  },
  "cells": [
    {
      "cell_type": "code",
      "metadata": {
        "id": "MDz-o3UqUkqT"
      },
      "source": [
        "import numpy as np # linear algebra\r\n",
        "import pandas as pd # data processing, CSV file I/O (e.g. pd.read_csv)\r\n",
        "\r\n",
        "# Input data files are available in the read-only \"../input/\" directory\r\n",
        "# For example, running this (by clicking run or pressing Shift+Enter) will list all files under the input directory\r\n",
        "\r\n",
        "import os\r\n",
        "for dirname, _, filenames in os.walk('/kaggle/input'):\r\n",
        "    for filename in filenames:\r\n",
        "        print(os.path.join(dirname, filename))"
      ],
      "execution_count": null,
      "outputs": []
    },
    {
      "cell_type": "code",
      "metadata": {
        "id": "QvVi9XbqbLJi"
      },
      "source": [
        "train = pd.read_csv('Training.csv')\r\n",
        "test = pd.read_csv('sample_submission.csv')\r\n",
        "\r\n",
        "pre= pd.read_csv('Matches IPL 2008-2019.csv')\r\n",
        "coming =pd.read_csv('Matches IPL 2020.csv')"
      ],
      "execution_count": null,
      "outputs": []
    },
    {
      "cell_type": "code",
      "metadata": {
        "colab": {
          "base_uri": "https://localhost:8080/",
          "height": 195
        },
        "id": "kHX2AuwzbOBW",
        "outputId": "e729ee64-2d9a-4287-af28-1cdbee27cb4b"
      },
      "source": [
        "train.head()"
      ],
      "execution_count": null,
      "outputs": [
        {
          "output_type": "execute_result",
          "data": {
            "text/html": [
              "<div>\n",
              "<style scoped>\n",
              "    .dataframe tbody tr th:only-of-type {\n",
              "        vertical-align: middle;\n",
              "    }\n",
              "\n",
              "    .dataframe tbody tr th {\n",
              "        vertical-align: top;\n",
              "    }\n",
              "\n",
              "    .dataframe thead th {\n",
              "        text-align: right;\n",
              "    }\n",
              "</style>\n",
              "<table border=\"1\" class=\"dataframe\">\n",
              "  <thead>\n",
              "    <tr style=\"text-align: right;\">\n",
              "      <th></th>\n",
              "      <th>Id</th>\n",
              "      <th>Runs</th>\n",
              "      <th>Boundaries</th>\n",
              "      <th>Six</th>\n",
              "      <th>Fifty</th>\n",
              "      <th>Hundred</th>\n",
              "      <th>Duck</th>\n",
              "      <th>Batting_Points</th>\n",
              "      <th>Wickets</th>\n",
              "      <th>4W_Haul</th>\n",
              "      <th>5W_Haul</th>\n",
              "      <th>Maidens</th>\n",
              "      <th>Bowling_Points</th>\n",
              "      <th>Total Points</th>\n",
              "    </tr>\n",
              "  </thead>\n",
              "  <tbody>\n",
              "    <tr>\n",
              "      <th>0</th>\n",
              "      <td>1_Bipul Sharma</td>\n",
              "      <td>0</td>\n",
              "      <td>0</td>\n",
              "      <td>0</td>\n",
              "      <td>0</td>\n",
              "      <td>0</td>\n",
              "      <td>0</td>\n",
              "      <td>0</td>\n",
              "      <td>1</td>\n",
              "      <td>0</td>\n",
              "      <td>0</td>\n",
              "      <td>0</td>\n",
              "      <td>25</td>\n",
              "      <td>25</td>\n",
              "    </tr>\n",
              "    <tr>\n",
              "      <th>1</th>\n",
              "      <td>1_DJ Hooda</td>\n",
              "      <td>16</td>\n",
              "      <td>1</td>\n",
              "      <td>1</td>\n",
              "      <td>0</td>\n",
              "      <td>0</td>\n",
              "      <td>0</td>\n",
              "      <td>19</td>\n",
              "      <td>1</td>\n",
              "      <td>0</td>\n",
              "      <td>0</td>\n",
              "      <td>0</td>\n",
              "      <td>25</td>\n",
              "      <td>44</td>\n",
              "    </tr>\n",
              "    <tr>\n",
              "      <th>2</th>\n",
              "      <td>1_KM Jadhav</td>\n",
              "      <td>31</td>\n",
              "      <td>5</td>\n",
              "      <td>1</td>\n",
              "      <td>0</td>\n",
              "      <td>0</td>\n",
              "      <td>0</td>\n",
              "      <td>38</td>\n",
              "      <td>0</td>\n",
              "      <td>0</td>\n",
              "      <td>0</td>\n",
              "      <td>0</td>\n",
              "      <td>0</td>\n",
              "      <td>38</td>\n",
              "    </tr>\n",
              "    <tr>\n",
              "      <th>3</th>\n",
              "      <td>1_Mandeep Singh</td>\n",
              "      <td>24</td>\n",
              "      <td>5</td>\n",
              "      <td>0</td>\n",
              "      <td>0</td>\n",
              "      <td>0</td>\n",
              "      <td>0</td>\n",
              "      <td>29</td>\n",
              "      <td>0</td>\n",
              "      <td>0</td>\n",
              "      <td>0</td>\n",
              "      <td>0</td>\n",
              "      <td>0</td>\n",
              "      <td>29</td>\n",
              "    </tr>\n",
              "    <tr>\n",
              "      <th>4</th>\n",
              "      <td>1_Yuvraj Singh</td>\n",
              "      <td>62</td>\n",
              "      <td>10</td>\n",
              "      <td>3</td>\n",
              "      <td>1</td>\n",
              "      <td>0</td>\n",
              "      <td>0</td>\n",
              "      <td>86</td>\n",
              "      <td>0</td>\n",
              "      <td>0</td>\n",
              "      <td>0</td>\n",
              "      <td>0</td>\n",
              "      <td>0</td>\n",
              "      <td>86</td>\n",
              "    </tr>\n",
              "  </tbody>\n",
              "</table>\n",
              "</div>"
            ],
            "text/plain": [
              "                Id  Runs  Boundaries  ...  Maidens  Bowling_Points  Total Points\n",
              "0   1_Bipul Sharma     0           0  ...        0              25            25\n",
              "1       1_DJ Hooda    16           1  ...        0              25            44\n",
              "2      1_KM Jadhav    31           5  ...        0               0            38\n",
              "3  1_Mandeep Singh    24           5  ...        0               0            29\n",
              "4   1_Yuvraj Singh    62          10  ...        0               0            86\n",
              "\n",
              "[5 rows x 14 columns]"
            ]
          },
          "metadata": {
            "tags": []
          },
          "execution_count": 34
        }
      ]
    },
    {
      "cell_type": "code",
      "metadata": {
        "colab": {
          "base_uri": "https://localhost:8080/"
        },
        "id": "rckVRa0mbaL3",
        "outputId": "70430eca-5d56-4562-acdf-b97ed0a68ef8"
      },
      "source": [
        "train['player'] = train['Id']\r\n",
        "train['match_id'] =  train['Id']\r\n",
        "for i in range(0, len( train)):\r\n",
        "    train['player'][i] =  train['Id'][i].split(\"_\")[-1]\r\n",
        "    train['match_id'][i] = int( train['Id'][i].split('_')[:1][0])"
      ],
      "execution_count": null,
      "outputs": [
        {
          "output_type": "stream",
          "text": [
            "/usr/local/lib/python3.6/dist-packages/ipykernel_launcher.py:4: SettingWithCopyWarning: \n",
            "A value is trying to be set on a copy of a slice from a DataFrame\n",
            "\n",
            "See the caveats in the documentation: https://pandas.pydata.org/pandas-docs/stable/user_guide/indexing.html#returning-a-view-versus-a-copy\n",
            "  after removing the cwd from sys.path.\n",
            "/usr/local/lib/python3.6/dist-packages/ipykernel_launcher.py:5: SettingWithCopyWarning: \n",
            "A value is trying to be set on a copy of a slice from a DataFrame\n",
            "\n",
            "See the caveats in the documentation: https://pandas.pydata.org/pandas-docs/stable/user_guide/indexing.html#returning-a-view-versus-a-copy\n",
            "  \"\"\"\n"
          ],
          "name": "stderr"
        }
      ]
    },
    {
      "cell_type": "code",
      "metadata": {
        "colab": {
          "base_uri": "https://localhost:8080/",
          "height": 195
        },
        "id": "fevlXhg8beXy",
        "outputId": "fa1e1c7c-f3f7-4b19-f944-09f6cd245430"
      },
      "source": [
        "train_df=train[['Id', 'player', 'Total Points', 'match_id']]\r\n",
        "train_df.head()"
      ],
      "execution_count": null,
      "outputs": [
        {
          "output_type": "execute_result",
          "data": {
            "text/html": [
              "<div>\n",
              "<style scoped>\n",
              "    .dataframe tbody tr th:only-of-type {\n",
              "        vertical-align: middle;\n",
              "    }\n",
              "\n",
              "    .dataframe tbody tr th {\n",
              "        vertical-align: top;\n",
              "    }\n",
              "\n",
              "    .dataframe thead th {\n",
              "        text-align: right;\n",
              "    }\n",
              "</style>\n",
              "<table border=\"1\" class=\"dataframe\">\n",
              "  <thead>\n",
              "    <tr style=\"text-align: right;\">\n",
              "      <th></th>\n",
              "      <th>Id</th>\n",
              "      <th>player</th>\n",
              "      <th>Total Points</th>\n",
              "      <th>match_id</th>\n",
              "    </tr>\n",
              "  </thead>\n",
              "  <tbody>\n",
              "    <tr>\n",
              "      <th>0</th>\n",
              "      <td>1_Bipul Sharma</td>\n",
              "      <td>Bipul Sharma</td>\n",
              "      <td>25</td>\n",
              "      <td>1</td>\n",
              "    </tr>\n",
              "    <tr>\n",
              "      <th>1</th>\n",
              "      <td>1_DJ Hooda</td>\n",
              "      <td>DJ Hooda</td>\n",
              "      <td>44</td>\n",
              "      <td>1</td>\n",
              "    </tr>\n",
              "    <tr>\n",
              "      <th>2</th>\n",
              "      <td>1_KM Jadhav</td>\n",
              "      <td>KM Jadhav</td>\n",
              "      <td>38</td>\n",
              "      <td>1</td>\n",
              "    </tr>\n",
              "    <tr>\n",
              "      <th>3</th>\n",
              "      <td>1_Mandeep Singh</td>\n",
              "      <td>Mandeep Singh</td>\n",
              "      <td>29</td>\n",
              "      <td>1</td>\n",
              "    </tr>\n",
              "    <tr>\n",
              "      <th>4</th>\n",
              "      <td>1_Yuvraj Singh</td>\n",
              "      <td>Yuvraj Singh</td>\n",
              "      <td>86</td>\n",
              "      <td>1</td>\n",
              "    </tr>\n",
              "  </tbody>\n",
              "</table>\n",
              "</div>"
            ],
            "text/plain": [
              "                Id         player  Total Points match_id\n",
              "0   1_Bipul Sharma   Bipul Sharma            25        1\n",
              "1       1_DJ Hooda       DJ Hooda            44        1\n",
              "2      1_KM Jadhav      KM Jadhav            38        1\n",
              "3  1_Mandeep Singh  Mandeep Singh            29        1\n",
              "4   1_Yuvraj Singh   Yuvraj Singh            86        1"
            ]
          },
          "metadata": {
            "tags": []
          },
          "execution_count": 36
        }
      ]
    },
    {
      "cell_type": "code",
      "metadata": {
        "colab": {
          "base_uri": "https://localhost:8080/"
        },
        "id": "1vWXFbaXb0v_",
        "outputId": "f0b84ac2-5314-47c2-f090-fb9c6911f6fe"
      },
      "source": [
        "test['player'] = test['Id']\r\n",
        "test['match_id'] =  test['Id']\r\n",
        "for i in range(0, len( test)):\r\n",
        "    test['player'][i] =  test['Id'][i].split(\"_\")[-1]\r\n",
        "    test['match_id'][i] = int( test['Id'][i].split('_')[:1][0])"
      ],
      "execution_count": null,
      "outputs": [
        {
          "output_type": "stream",
          "text": [
            "/usr/local/lib/python3.6/dist-packages/ipykernel_launcher.py:4: SettingWithCopyWarning: \n",
            "A value is trying to be set on a copy of a slice from a DataFrame\n",
            "\n",
            "See the caveats in the documentation: https://pandas.pydata.org/pandas-docs/stable/user_guide/indexing.html#returning-a-view-versus-a-copy\n",
            "  after removing the cwd from sys.path.\n",
            "/usr/local/lib/python3.6/dist-packages/ipykernel_launcher.py:5: SettingWithCopyWarning: \n",
            "A value is trying to be set on a copy of a slice from a DataFrame\n",
            "\n",
            "See the caveats in the documentation: https://pandas.pydata.org/pandas-docs/stable/user_guide/indexing.html#returning-a-view-versus-a-copy\n",
            "  \"\"\"\n"
          ],
          "name": "stderr"
        }
      ]
    },
    {
      "cell_type": "code",
      "metadata": {
        "colab": {
          "base_uri": "https://localhost:8080/",
          "height": 195
        },
        "id": "GUeeF1Qgb59N",
        "outputId": "5a650b5f-c6b3-4fda-d4a1-86488ae529bc"
      },
      "source": [
        "test.head()"
      ],
      "execution_count": null,
      "outputs": [
        {
          "output_type": "execute_result",
          "data": {
            "text/html": [
              "<div>\n",
              "<style scoped>\n",
              "    .dataframe tbody tr th:only-of-type {\n",
              "        vertical-align: middle;\n",
              "    }\n",
              "\n",
              "    .dataframe tbody tr th {\n",
              "        vertical-align: top;\n",
              "    }\n",
              "\n",
              "    .dataframe thead th {\n",
              "        text-align: right;\n",
              "    }\n",
              "</style>\n",
              "<table border=\"1\" class=\"dataframe\">\n",
              "  <thead>\n",
              "    <tr style=\"text-align: right;\">\n",
              "      <th></th>\n",
              "      <th>Id</th>\n",
              "      <th>Total Points</th>\n",
              "      <th>player</th>\n",
              "      <th>match_id</th>\n",
              "    </tr>\n",
              "  </thead>\n",
              "  <tbody>\n",
              "    <tr>\n",
              "      <th>0</th>\n",
              "      <td>1216492_AS Yadav</td>\n",
              "      <td>0</td>\n",
              "      <td>AS Yadav</td>\n",
              "      <td>1216492</td>\n",
              "    </tr>\n",
              "    <tr>\n",
              "      <th>1</th>\n",
              "      <td>1216492_AT Rayudu</td>\n",
              "      <td>0</td>\n",
              "      <td>AT Rayudu</td>\n",
              "      <td>1216492</td>\n",
              "    </tr>\n",
              "    <tr>\n",
              "      <th>2</th>\n",
              "      <td>1216492_DL Chahar</td>\n",
              "      <td>0</td>\n",
              "      <td>DL Chahar</td>\n",
              "      <td>1216492</td>\n",
              "    </tr>\n",
              "    <tr>\n",
              "      <th>3</th>\n",
              "      <td>1216492_F du Plessis</td>\n",
              "      <td>0</td>\n",
              "      <td>F du Plessis</td>\n",
              "      <td>1216492</td>\n",
              "    </tr>\n",
              "    <tr>\n",
              "      <th>4</th>\n",
              "      <td>1216492_HH Pandya</td>\n",
              "      <td>0</td>\n",
              "      <td>HH Pandya</td>\n",
              "      <td>1216492</td>\n",
              "    </tr>\n",
              "  </tbody>\n",
              "</table>\n",
              "</div>"
            ],
            "text/plain": [
              "                     Id  Total Points        player match_id\n",
              "0      1216492_AS Yadav             0      AS Yadav  1216492\n",
              "1     1216492_AT Rayudu             0     AT Rayudu  1216492\n",
              "2     1216492_DL Chahar             0     DL Chahar  1216492\n",
              "3  1216492_F du Plessis             0  F du Plessis  1216492\n",
              "4     1216492_HH Pandya             0     HH Pandya  1216492"
            ]
          },
          "metadata": {
            "tags": []
          },
          "execution_count": 38
        }
      ]
    },
    {
      "cell_type": "code",
      "metadata": {
        "colab": {
          "base_uri": "https://localhost:8080/",
          "height": 195
        },
        "id": "eF9HIaITb88o",
        "outputId": "501de181-59dc-4d7c-92d1-b102f18f5561"
      },
      "source": [
        "pre=pre[['match_id', 'team1', 'team2', 'season']]\r\n",
        "pre.head()"
      ],
      "execution_count": null,
      "outputs": [
        {
          "output_type": "execute_result",
          "data": {
            "text/html": [
              "<div>\n",
              "<style scoped>\n",
              "    .dataframe tbody tr th:only-of-type {\n",
              "        vertical-align: middle;\n",
              "    }\n",
              "\n",
              "    .dataframe tbody tr th {\n",
              "        vertical-align: top;\n",
              "    }\n",
              "\n",
              "    .dataframe thead th {\n",
              "        text-align: right;\n",
              "    }\n",
              "</style>\n",
              "<table border=\"1\" class=\"dataframe\">\n",
              "  <thead>\n",
              "    <tr style=\"text-align: right;\">\n",
              "      <th></th>\n",
              "      <th>match_id</th>\n",
              "      <th>team1</th>\n",
              "      <th>team2</th>\n",
              "      <th>season</th>\n",
              "    </tr>\n",
              "  </thead>\n",
              "  <tbody>\n",
              "    <tr>\n",
              "      <th>0</th>\n",
              "      <td>60</td>\n",
              "      <td>Kolkata Knight Riders</td>\n",
              "      <td>Royal Challengers Bangalore</td>\n",
              "      <td>2008</td>\n",
              "    </tr>\n",
              "    <tr>\n",
              "      <th>1</th>\n",
              "      <td>61</td>\n",
              "      <td>Chennai Super Kings</td>\n",
              "      <td>Kings XI Punjab</td>\n",
              "      <td>2008</td>\n",
              "    </tr>\n",
              "    <tr>\n",
              "      <th>2</th>\n",
              "      <td>62</td>\n",
              "      <td>Rajasthan Royals</td>\n",
              "      <td>Delhi Daredevils</td>\n",
              "      <td>2008</td>\n",
              "    </tr>\n",
              "    <tr>\n",
              "      <th>3</th>\n",
              "      <td>63</td>\n",
              "      <td>Mumbai Indians</td>\n",
              "      <td>Royal Challengers Bangalore</td>\n",
              "      <td>2008</td>\n",
              "    </tr>\n",
              "    <tr>\n",
              "      <th>4</th>\n",
              "      <td>64</td>\n",
              "      <td>Deccan Chargers</td>\n",
              "      <td>Kolkata Knight Riders</td>\n",
              "      <td>2008</td>\n",
              "    </tr>\n",
              "  </tbody>\n",
              "</table>\n",
              "</div>"
            ],
            "text/plain": [
              "   match_id                  team1                        team2  season\n",
              "0        60  Kolkata Knight Riders  Royal Challengers Bangalore    2008\n",
              "1        61    Chennai Super Kings              Kings XI Punjab    2008\n",
              "2        62       Rajasthan Royals             Delhi Daredevils    2008\n",
              "3        63         Mumbai Indians  Royal Challengers Bangalore    2008\n",
              "4        64        Deccan Chargers        Kolkata Knight Riders    2008"
            ]
          },
          "metadata": {
            "tags": []
          },
          "execution_count": 39
        }
      ]
    },
    {
      "cell_type": "code",
      "metadata": {
        "colab": {
          "base_uri": "https://localhost:8080/",
          "height": 195
        },
        "id": "PpRtlu27b_zx",
        "outputId": "3b7e87f6-ca22-4fc3-c143-bced37d7c0bc"
      },
      "source": [
        "coming=coming[['match_id', 'team1', 'team2']]\r\n",
        "coming.head()"
      ],
      "execution_count": null,
      "outputs": [
        {
          "output_type": "execute_result",
          "data": {
            "text/html": [
              "<div>\n",
              "<style scoped>\n",
              "    .dataframe tbody tr th:only-of-type {\n",
              "        vertical-align: middle;\n",
              "    }\n",
              "\n",
              "    .dataframe tbody tr th {\n",
              "        vertical-align: top;\n",
              "    }\n",
              "\n",
              "    .dataframe thead th {\n",
              "        text-align: right;\n",
              "    }\n",
              "</style>\n",
              "<table border=\"1\" class=\"dataframe\">\n",
              "  <thead>\n",
              "    <tr style=\"text-align: right;\">\n",
              "      <th></th>\n",
              "      <th>match_id</th>\n",
              "      <th>team1</th>\n",
              "      <th>team2</th>\n",
              "    </tr>\n",
              "  </thead>\n",
              "  <tbody>\n",
              "    <tr>\n",
              "      <th>0</th>\n",
              "      <td>1216492</td>\n",
              "      <td>MI</td>\n",
              "      <td>CSK</td>\n",
              "    </tr>\n",
              "    <tr>\n",
              "      <th>1</th>\n",
              "      <td>1216493</td>\n",
              "      <td>DC</td>\n",
              "      <td>KXIP</td>\n",
              "    </tr>\n",
              "    <tr>\n",
              "      <th>2</th>\n",
              "      <td>1216534</td>\n",
              "      <td>SRH</td>\n",
              "      <td>RCB</td>\n",
              "    </tr>\n",
              "    <tr>\n",
              "      <th>3</th>\n",
              "      <td>1216496</td>\n",
              "      <td>RR</td>\n",
              "      <td>CSK</td>\n",
              "    </tr>\n",
              "    <tr>\n",
              "      <th>4</th>\n",
              "      <td>1216508</td>\n",
              "      <td>KKR</td>\n",
              "      <td>MI</td>\n",
              "    </tr>\n",
              "  </tbody>\n",
              "</table>\n",
              "</div>"
            ],
            "text/plain": [
              "   match_id team1 team2\n",
              "0   1216492    MI   CSK\n",
              "1   1216493    DC  KXIP\n",
              "2   1216534   SRH   RCB\n",
              "3   1216496    RR   CSK\n",
              "4   1216508   KKR    MI"
            ]
          },
          "metadata": {
            "tags": []
          },
          "execution_count": 40
        }
      ]
    },
    {
      "cell_type": "code",
      "metadata": {
        "colab": {
          "base_uri": "https://localhost:8080/",
          "height": 195
        },
        "id": "ry9Q5v9lcGAo",
        "outputId": "c0a0800a-0627-42b1-f59f-14ded0092fd4"
      },
      "source": [
        "train_df = pd.merge(train_df,pre, how = 'inner', on = 'match_id')\r\n",
        "train_df.head()"
      ],
      "execution_count": null,
      "outputs": [
        {
          "output_type": "execute_result",
          "data": {
            "text/html": [
              "<div>\n",
              "<style scoped>\n",
              "    .dataframe tbody tr th:only-of-type {\n",
              "        vertical-align: middle;\n",
              "    }\n",
              "\n",
              "    .dataframe tbody tr th {\n",
              "        vertical-align: top;\n",
              "    }\n",
              "\n",
              "    .dataframe thead th {\n",
              "        text-align: right;\n",
              "    }\n",
              "</style>\n",
              "<table border=\"1\" class=\"dataframe\">\n",
              "  <thead>\n",
              "    <tr style=\"text-align: right;\">\n",
              "      <th></th>\n",
              "      <th>Id</th>\n",
              "      <th>player</th>\n",
              "      <th>Total Points</th>\n",
              "      <th>match_id</th>\n",
              "      <th>team1</th>\n",
              "      <th>team2</th>\n",
              "      <th>season</th>\n",
              "    </tr>\n",
              "  </thead>\n",
              "  <tbody>\n",
              "    <tr>\n",
              "      <th>0</th>\n",
              "      <td>1_Bipul Sharma</td>\n",
              "      <td>Bipul Sharma</td>\n",
              "      <td>25</td>\n",
              "      <td>1</td>\n",
              "      <td>Sunrisers Hyderabad</td>\n",
              "      <td>Royal Challengers Bangalore</td>\n",
              "      <td>2017</td>\n",
              "    </tr>\n",
              "    <tr>\n",
              "      <th>1</th>\n",
              "      <td>1_DJ Hooda</td>\n",
              "      <td>DJ Hooda</td>\n",
              "      <td>44</td>\n",
              "      <td>1</td>\n",
              "      <td>Sunrisers Hyderabad</td>\n",
              "      <td>Royal Challengers Bangalore</td>\n",
              "      <td>2017</td>\n",
              "    </tr>\n",
              "    <tr>\n",
              "      <th>2</th>\n",
              "      <td>1_KM Jadhav</td>\n",
              "      <td>KM Jadhav</td>\n",
              "      <td>38</td>\n",
              "      <td>1</td>\n",
              "      <td>Sunrisers Hyderabad</td>\n",
              "      <td>Royal Challengers Bangalore</td>\n",
              "      <td>2017</td>\n",
              "    </tr>\n",
              "    <tr>\n",
              "      <th>3</th>\n",
              "      <td>1_Mandeep Singh</td>\n",
              "      <td>Mandeep Singh</td>\n",
              "      <td>29</td>\n",
              "      <td>1</td>\n",
              "      <td>Sunrisers Hyderabad</td>\n",
              "      <td>Royal Challengers Bangalore</td>\n",
              "      <td>2017</td>\n",
              "    </tr>\n",
              "    <tr>\n",
              "      <th>4</th>\n",
              "      <td>1_Yuvraj Singh</td>\n",
              "      <td>Yuvraj Singh</td>\n",
              "      <td>86</td>\n",
              "      <td>1</td>\n",
              "      <td>Sunrisers Hyderabad</td>\n",
              "      <td>Royal Challengers Bangalore</td>\n",
              "      <td>2017</td>\n",
              "    </tr>\n",
              "  </tbody>\n",
              "</table>\n",
              "</div>"
            ],
            "text/plain": [
              "                Id         player  ...                        team2 season\n",
              "0   1_Bipul Sharma   Bipul Sharma  ...  Royal Challengers Bangalore   2017\n",
              "1       1_DJ Hooda       DJ Hooda  ...  Royal Challengers Bangalore   2017\n",
              "2      1_KM Jadhav      KM Jadhav  ...  Royal Challengers Bangalore   2017\n",
              "3  1_Mandeep Singh  Mandeep Singh  ...  Royal Challengers Bangalore   2017\n",
              "4   1_Yuvraj Singh   Yuvraj Singh  ...  Royal Challengers Bangalore   2017\n",
              "\n",
              "[5 rows x 7 columns]"
            ]
          },
          "metadata": {
            "tags": []
          },
          "execution_count": 41
        }
      ]
    },
    {
      "cell_type": "code",
      "metadata": {
        "colab": {
          "base_uri": "https://localhost:8080/",
          "height": 195
        },
        "id": "QT_k4euGcIhe",
        "outputId": "1a302369-1917-4a57-d992-3d627071ffc8"
      },
      "source": [
        "test = pd.merge(test,coming, how = 'inner', on = 'match_id')\r\n",
        "test.head()"
      ],
      "execution_count": null,
      "outputs": [
        {
          "output_type": "execute_result",
          "data": {
            "text/html": [
              "<div>\n",
              "<style scoped>\n",
              "    .dataframe tbody tr th:only-of-type {\n",
              "        vertical-align: middle;\n",
              "    }\n",
              "\n",
              "    .dataframe tbody tr th {\n",
              "        vertical-align: top;\n",
              "    }\n",
              "\n",
              "    .dataframe thead th {\n",
              "        text-align: right;\n",
              "    }\n",
              "</style>\n",
              "<table border=\"1\" class=\"dataframe\">\n",
              "  <thead>\n",
              "    <tr style=\"text-align: right;\">\n",
              "      <th></th>\n",
              "      <th>Id</th>\n",
              "      <th>Total Points</th>\n",
              "      <th>player</th>\n",
              "      <th>match_id</th>\n",
              "      <th>team1</th>\n",
              "      <th>team2</th>\n",
              "    </tr>\n",
              "  </thead>\n",
              "  <tbody>\n",
              "    <tr>\n",
              "      <th>0</th>\n",
              "      <td>1216492_AS Yadav</td>\n",
              "      <td>0</td>\n",
              "      <td>AS Yadav</td>\n",
              "      <td>1216492</td>\n",
              "      <td>MI</td>\n",
              "      <td>CSK</td>\n",
              "    </tr>\n",
              "    <tr>\n",
              "      <th>1</th>\n",
              "      <td>1216492_AT Rayudu</td>\n",
              "      <td>0</td>\n",
              "      <td>AT Rayudu</td>\n",
              "      <td>1216492</td>\n",
              "      <td>MI</td>\n",
              "      <td>CSK</td>\n",
              "    </tr>\n",
              "    <tr>\n",
              "      <th>2</th>\n",
              "      <td>1216492_DL Chahar</td>\n",
              "      <td>0</td>\n",
              "      <td>DL Chahar</td>\n",
              "      <td>1216492</td>\n",
              "      <td>MI</td>\n",
              "      <td>CSK</td>\n",
              "    </tr>\n",
              "    <tr>\n",
              "      <th>3</th>\n",
              "      <td>1216492_F du Plessis</td>\n",
              "      <td>0</td>\n",
              "      <td>F du Plessis</td>\n",
              "      <td>1216492</td>\n",
              "      <td>MI</td>\n",
              "      <td>CSK</td>\n",
              "    </tr>\n",
              "    <tr>\n",
              "      <th>4</th>\n",
              "      <td>1216492_HH Pandya</td>\n",
              "      <td>0</td>\n",
              "      <td>HH Pandya</td>\n",
              "      <td>1216492</td>\n",
              "      <td>MI</td>\n",
              "      <td>CSK</td>\n",
              "    </tr>\n",
              "  </tbody>\n",
              "</table>\n",
              "</div>"
            ],
            "text/plain": [
              "                     Id  Total Points        player match_id team1 team2\n",
              "0      1216492_AS Yadav             0      AS Yadav  1216492    MI   CSK\n",
              "1     1216492_AT Rayudu             0     AT Rayudu  1216492    MI   CSK\n",
              "2     1216492_DL Chahar             0     DL Chahar  1216492    MI   CSK\n",
              "3  1216492_F du Plessis             0  F du Plessis  1216492    MI   CSK\n",
              "4     1216492_HH Pandya             0     HH Pandya  1216492    MI   CSK"
            ]
          },
          "metadata": {
            "tags": []
          },
          "execution_count": 42
        }
      ]
    },
    {
      "cell_type": "code",
      "metadata": {
        "id": "qFLizHrOciVD"
      },
      "source": [
        "from sklearn.preprocessing import LabelEncoder\r\n",
        "le = LabelEncoder()"
      ],
      "execution_count": null,
      "outputs": []
    },
    {
      "cell_type": "code",
      "metadata": {
        "id": "Ajg9WTzPcnYq"
      },
      "source": [
        "\r\n",
        "\r\n",
        "\r\n",
        "\r\n",
        "train_df.team1 = le.fit_transform(train_df.team1)\r\n",
        "train_df.team2 = le.fit_transform(train_df.team2)"
      ],
      "execution_count": null,
      "outputs": []
    },
    {
      "cell_type": "code",
      "metadata": {
        "colab": {
          "base_uri": "https://localhost:8080/",
          "height": 195
        },
        "id": "mHxkgh1Vcp3O",
        "outputId": "f57fc3c7-9e51-4ebc-b167-db99fd6dba9e"
      },
      "source": [
        "train_df.head()\r\n"
      ],
      "execution_count": null,
      "outputs": [
        {
          "output_type": "execute_result",
          "data": {
            "text/html": [
              "<div>\n",
              "<style scoped>\n",
              "    .dataframe tbody tr th:only-of-type {\n",
              "        vertical-align: middle;\n",
              "    }\n",
              "\n",
              "    .dataframe tbody tr th {\n",
              "        vertical-align: top;\n",
              "    }\n",
              "\n",
              "    .dataframe thead th {\n",
              "        text-align: right;\n",
              "    }\n",
              "</style>\n",
              "<table border=\"1\" class=\"dataframe\">\n",
              "  <thead>\n",
              "    <tr style=\"text-align: right;\">\n",
              "      <th></th>\n",
              "      <th>Id</th>\n",
              "      <th>player</th>\n",
              "      <th>Total Points</th>\n",
              "      <th>match_id</th>\n",
              "      <th>team1</th>\n",
              "      <th>team2</th>\n",
              "      <th>season</th>\n",
              "    </tr>\n",
              "  </thead>\n",
              "  <tbody>\n",
              "    <tr>\n",
              "      <th>0</th>\n",
              "      <td>1_Bipul Sharma</td>\n",
              "      <td>Bipul Sharma</td>\n",
              "      <td>25</td>\n",
              "      <td>1</td>\n",
              "      <td>14</td>\n",
              "      <td>13</td>\n",
              "      <td>2017</td>\n",
              "    </tr>\n",
              "    <tr>\n",
              "      <th>1</th>\n",
              "      <td>1_DJ Hooda</td>\n",
              "      <td>DJ Hooda</td>\n",
              "      <td>44</td>\n",
              "      <td>1</td>\n",
              "      <td>14</td>\n",
              "      <td>13</td>\n",
              "      <td>2017</td>\n",
              "    </tr>\n",
              "    <tr>\n",
              "      <th>2</th>\n",
              "      <td>1_KM Jadhav</td>\n",
              "      <td>KM Jadhav</td>\n",
              "      <td>38</td>\n",
              "      <td>1</td>\n",
              "      <td>14</td>\n",
              "      <td>13</td>\n",
              "      <td>2017</td>\n",
              "    </tr>\n",
              "    <tr>\n",
              "      <th>3</th>\n",
              "      <td>1_Mandeep Singh</td>\n",
              "      <td>Mandeep Singh</td>\n",
              "      <td>29</td>\n",
              "      <td>1</td>\n",
              "      <td>14</td>\n",
              "      <td>13</td>\n",
              "      <td>2017</td>\n",
              "    </tr>\n",
              "    <tr>\n",
              "      <th>4</th>\n",
              "      <td>1_Yuvraj Singh</td>\n",
              "      <td>Yuvraj Singh</td>\n",
              "      <td>86</td>\n",
              "      <td>1</td>\n",
              "      <td>14</td>\n",
              "      <td>13</td>\n",
              "      <td>2017</td>\n",
              "    </tr>\n",
              "  </tbody>\n",
              "</table>\n",
              "</div>"
            ],
            "text/plain": [
              "                Id         player  Total Points match_id  team1  team2  season\n",
              "0   1_Bipul Sharma   Bipul Sharma            25        1     14     13    2017\n",
              "1       1_DJ Hooda       DJ Hooda            44        1     14     13    2017\n",
              "2      1_KM Jadhav      KM Jadhav            38        1     14     13    2017\n",
              "3  1_Mandeep Singh  Mandeep Singh            29        1     14     13    2017\n",
              "4   1_Yuvraj Singh   Yuvraj Singh            86        1     14     13    2017"
            ]
          },
          "metadata": {
            "tags": []
          },
          "execution_count": 45
        }
      ]
    },
    {
      "cell_type": "code",
      "metadata": {
        "id": "yhwcfsqEcuXZ"
      },
      "source": [
        "X=train_df[['team1', 'team2']]\r\n",
        "y=train_df['Total Points']"
      ],
      "execution_count": null,
      "outputs": []
    },
    {
      "cell_type": "code",
      "metadata": {
        "id": "C_-eaAILdePQ"
      },
      "source": [
        "from sklearn.model_selection import train_test_split\r\n",
        "from sklearn.metrics import mean_squared_error\r\n",
        "\r\n",
        "\r\n",
        "\r\n",
        "from sklearn.linear_model import LinearRegression\r\n",
        "from sklearn.model_selection import GridSearchCV ,RandomizedSearchCV\r\n",
        "from sklearn.tree import plot_tree\r\n",
        "\r\n",
        "\r\n",
        "from sklearn.ensemble import RandomForestRegressor,AdaBoostRegressor,GradientBoostingRegressor\r\n",
        "from sklearn.tree import DecisionTreeRegressor\r\n",
        "from sklearn.svm import SVR"
      ],
      "execution_count": null,
      "outputs": []
    },
    {
      "cell_type": "code",
      "metadata": {
        "id": "VkqBlTvUg_QE"
      },
      "source": [
        "X_train, X_test, y_train, y_test = train_test_split(X, y, test_size=0.1, random_state=42)"
      ],
      "execution_count": null,
      "outputs": []
    },
    {
      "cell_type": "code",
      "metadata": {
        "colab": {
          "base_uri": "https://localhost:8080/"
        },
        "id": "NqStv_hlhDmt",
        "outputId": "1cc72e60-cac5-46cf-c0ee-2d8dcba664b0"
      },
      "source": [
        "#import models\r\n",
        "lg = LinearRegression()\r\n",
        "svr = SVR()\r\n",
        "dt = DecisionTreeRegressor( criterion=\"friedman_mse\", splitter= 'random')\r\n",
        "rf = RandomForestRegressor()\r\n",
        "ada = AdaBoostRegressor()\r\n",
        "gb = GradientBoostingRegressor()\r\n",
        "\r\n",
        "\r\n",
        "#fit model in train data\r\n",
        "lg.fit(X_train,y_train)\r\n",
        "svr.fit(X_train,y_train)\r\n",
        "dt.fit(X_train,y_train)\r\n",
        "rf.fit(X_train,y_train)\r\n",
        "ada.fit(X_train,y_train)\r\n",
        "gb.fit(X_train,y_train)\r\n",
        "\r\n",
        "\r\n",
        "\r\n",
        "#predict test data\r\n",
        "lg_pred = lg.predict(X_test) \r\n",
        "svr_pred = svr.predict(X_test) \r\n",
        "dt_pred = dt.predict(X_test) \r\n",
        "rf_pred = rf.predict(X_test) \r\n",
        "ada_pred = ada.predict(X_test) \r\n",
        "gb_pred = gb.predict(X_test) \r\n",
        "\r\n",
        "\r\n",
        "\r\n",
        "# measure the errors\r\n",
        "lg_RMSE = np.sqrt(mean_squared_error(y_test,lg_pred))\r\n",
        "svr_RMSE = np.sqrt(mean_squared_error(y_test,svr_pred))\r\n",
        "dt_RMSE = np.sqrt(mean_squared_error(y_test,dt_pred))\r\n",
        "rf_RMSE = np.sqrt(mean_squared_error(y_test,rf_pred))\r\n",
        "ada_RMSE = np.sqrt(mean_squared_error(y_test,ada_pred))\r\n",
        "gb_RMSE = np.sqrt(mean_squared_error(y_test,gb_pred))\r\n",
        "\r\n",
        "\r\n",
        "\r\n",
        "#rmse of models\r\n",
        "print('lg_RMSE',lg_RMSE)\r\n",
        "print('svr_RMSE',svr_RMSE)\r\n",
        "print('dt_RMSE',dt_RMSE)\r\n",
        "print('rf_RMSE',rf_RMSE)\r\n",
        "print('ada_RMSE',ada_RMSE)\r\n",
        "print('gb_RMSE',gb_RMSE)"
      ],
      "execution_count": null,
      "outputs": [
        {
          "output_type": "stream",
          "text": [
            "lg_RMSE 29.730777258455234\n",
            "svr_RMSE 30.07530826547908\n",
            "dt_RMSE 29.99078607336608\n",
            "rf_RMSE 29.98992072861955\n",
            "ada_RMSE 33.140662085533094\n",
            "gb_RMSE 29.82455016744771\n"
          ],
          "name": "stdout"
        }
      ]
    },
    {
      "cell_type": "code",
      "metadata": {
        "id": "5KMXrNFXhGKd"
      },
      "source": [
        "test.team1 = le.fit_transform(test.team1)\r\n",
        "test.team2 = le.fit_transform(test.team2)"
      ],
      "execution_count": null,
      "outputs": []
    },
    {
      "cell_type": "code",
      "metadata": {
        "id": "m9omqxRxhRsg"
      },
      "source": [
        "df = train_df.append(test, ignore_index=True)"
      ],
      "execution_count": null,
      "outputs": []
    },
    {
      "cell_type": "code",
      "metadata": {
        "id": "JIzlZEbthXuh"
      },
      "source": [
        "df_Train=df.iloc[:15916,:]\r\n",
        "df_Test=df.iloc[15916:,:]"
      ],
      "execution_count": null,
      "outputs": []
    },
    {
      "cell_type": "code",
      "metadata": {
        "colab": {
          "base_uri": "https://localhost:8080/"
        },
        "id": "wbOzLa69hbzd",
        "outputId": "da3f56de-9edf-4af9-9bfc-938a1a38f73f"
      },
      "source": [
        "df_Train.drop(['Id', 'player', 'match_id', 'season'],axis=1,inplace=True)"
      ],
      "execution_count": null,
      "outputs": [
        {
          "output_type": "stream",
          "text": [
            "/usr/local/lib/python3.6/dist-packages/pandas/core/frame.py:4174: SettingWithCopyWarning: \n",
            "A value is trying to be set on a copy of a slice from a DataFrame\n",
            "\n",
            "See the caveats in the documentation: https://pandas.pydata.org/pandas-docs/stable/user_guide/indexing.html#returning-a-view-versus-a-copy\n",
            "  errors=errors,\n"
          ],
          "name": "stderr"
        }
      ]
    },
    {
      "cell_type": "code",
      "metadata": {
        "colab": {
          "base_uri": "https://localhost:8080/",
          "height": 195
        },
        "id": "bdMfPwTGhgnN",
        "outputId": "adfbe3b3-c479-46dd-9204-1407d8d50bd7"
      },
      "source": [
        "df_Train.head()"
      ],
      "execution_count": null,
      "outputs": [
        {
          "output_type": "execute_result",
          "data": {
            "text/html": [
              "<div>\n",
              "<style scoped>\n",
              "    .dataframe tbody tr th:only-of-type {\n",
              "        vertical-align: middle;\n",
              "    }\n",
              "\n",
              "    .dataframe tbody tr th {\n",
              "        vertical-align: top;\n",
              "    }\n",
              "\n",
              "    .dataframe thead th {\n",
              "        text-align: right;\n",
              "    }\n",
              "</style>\n",
              "<table border=\"1\" class=\"dataframe\">\n",
              "  <thead>\n",
              "    <tr style=\"text-align: right;\">\n",
              "      <th></th>\n",
              "      <th>Total Points</th>\n",
              "      <th>team1</th>\n",
              "      <th>team2</th>\n",
              "    </tr>\n",
              "  </thead>\n",
              "  <tbody>\n",
              "    <tr>\n",
              "      <th>0</th>\n",
              "      <td>25</td>\n",
              "      <td>14</td>\n",
              "      <td>13</td>\n",
              "    </tr>\n",
              "    <tr>\n",
              "      <th>1</th>\n",
              "      <td>44</td>\n",
              "      <td>14</td>\n",
              "      <td>13</td>\n",
              "    </tr>\n",
              "    <tr>\n",
              "      <th>2</th>\n",
              "      <td>38</td>\n",
              "      <td>14</td>\n",
              "      <td>13</td>\n",
              "    </tr>\n",
              "    <tr>\n",
              "      <th>3</th>\n",
              "      <td>29</td>\n",
              "      <td>14</td>\n",
              "      <td>13</td>\n",
              "    </tr>\n",
              "    <tr>\n",
              "      <th>4</th>\n",
              "      <td>86</td>\n",
              "      <td>14</td>\n",
              "      <td>13</td>\n",
              "    </tr>\n",
              "  </tbody>\n",
              "</table>\n",
              "</div>"
            ],
            "text/plain": [
              "   Total Points  team1  team2\n",
              "0            25     14     13\n",
              "1            44     14     13\n",
              "2            38     14     13\n",
              "3            29     14     13\n",
              "4            86     14     13"
            ]
          },
          "metadata": {
            "tags": []
          },
          "execution_count": 54
        }
      ]
    },
    {
      "cell_type": "code",
      "metadata": {
        "colab": {
          "base_uri": "https://localhost:8080/",
          "height": 195
        },
        "id": "w2Sf8xKwhjpd",
        "outputId": "7cc6c56d-3961-42d7-f80e-b28cd7dfe0b6"
      },
      "source": [
        "df_Test.head()"
      ],
      "execution_count": null,
      "outputs": [
        {
          "output_type": "execute_result",
          "data": {
            "text/html": [
              "<div>\n",
              "<style scoped>\n",
              "    .dataframe tbody tr th:only-of-type {\n",
              "        vertical-align: middle;\n",
              "    }\n",
              "\n",
              "    .dataframe tbody tr th {\n",
              "        vertical-align: top;\n",
              "    }\n",
              "\n",
              "    .dataframe thead th {\n",
              "        text-align: right;\n",
              "    }\n",
              "</style>\n",
              "<table border=\"1\" class=\"dataframe\">\n",
              "  <thead>\n",
              "    <tr style=\"text-align: right;\">\n",
              "      <th></th>\n",
              "      <th>Id</th>\n",
              "      <th>player</th>\n",
              "      <th>Total Points</th>\n",
              "      <th>match_id</th>\n",
              "      <th>team1</th>\n",
              "      <th>team2</th>\n",
              "      <th>season</th>\n",
              "    </tr>\n",
              "  </thead>\n",
              "  <tbody>\n",
              "    <tr>\n",
              "      <th>15916</th>\n",
              "      <td>1216492_AS Yadav</td>\n",
              "      <td>AS Yadav</td>\n",
              "      <td>0</td>\n",
              "      <td>1216492</td>\n",
              "      <td>4</td>\n",
              "      <td>0</td>\n",
              "      <td>NaN</td>\n",
              "    </tr>\n",
              "    <tr>\n",
              "      <th>15917</th>\n",
              "      <td>1216492_AT Rayudu</td>\n",
              "      <td>AT Rayudu</td>\n",
              "      <td>0</td>\n",
              "      <td>1216492</td>\n",
              "      <td>4</td>\n",
              "      <td>0</td>\n",
              "      <td>NaN</td>\n",
              "    </tr>\n",
              "    <tr>\n",
              "      <th>15918</th>\n",
              "      <td>1216492_DL Chahar</td>\n",
              "      <td>DL Chahar</td>\n",
              "      <td>0</td>\n",
              "      <td>1216492</td>\n",
              "      <td>4</td>\n",
              "      <td>0</td>\n",
              "      <td>NaN</td>\n",
              "    </tr>\n",
              "    <tr>\n",
              "      <th>15919</th>\n",
              "      <td>1216492_F du Plessis</td>\n",
              "      <td>F du Plessis</td>\n",
              "      <td>0</td>\n",
              "      <td>1216492</td>\n",
              "      <td>4</td>\n",
              "      <td>0</td>\n",
              "      <td>NaN</td>\n",
              "    </tr>\n",
              "    <tr>\n",
              "      <th>15920</th>\n",
              "      <td>1216492_HH Pandya</td>\n",
              "      <td>HH Pandya</td>\n",
              "      <td>0</td>\n",
              "      <td>1216492</td>\n",
              "      <td>4</td>\n",
              "      <td>0</td>\n",
              "      <td>NaN</td>\n",
              "    </tr>\n",
              "  </tbody>\n",
              "</table>\n",
              "</div>"
            ],
            "text/plain": [
              "                         Id        player  Total Points  ... team1  team2  season\n",
              "15916      1216492_AS Yadav      AS Yadav             0  ...     4      0     NaN\n",
              "15917     1216492_AT Rayudu     AT Rayudu             0  ...     4      0     NaN\n",
              "15918     1216492_DL Chahar     DL Chahar             0  ...     4      0     NaN\n",
              "15919  1216492_F du Plessis  F du Plessis             0  ...     4      0     NaN\n",
              "15920     1216492_HH Pandya     HH Pandya             0  ...     4      0     NaN\n",
              "\n",
              "[5 rows x 7 columns]"
            ]
          },
          "metadata": {
            "tags": []
          },
          "execution_count": 55
        }
      ]
    },
    {
      "cell_type": "code",
      "metadata": {
        "colab": {
          "base_uri": "https://localhost:8080/"
        },
        "id": "jzq0XP1mhmIz",
        "outputId": "334fed5a-24d4-4ef0-ffe0-5956f12703dc"
      },
      "source": [
        "df_Test.drop(['Id', 'player', 'Total Points', 'match_id', 'season'],axis=1,inplace=True)"
      ],
      "execution_count": null,
      "outputs": [
        {
          "output_type": "stream",
          "text": [
            "/usr/local/lib/python3.6/dist-packages/pandas/core/frame.py:4174: SettingWithCopyWarning: \n",
            "A value is trying to be set on a copy of a slice from a DataFrame\n",
            "\n",
            "See the caveats in the documentation: https://pandas.pydata.org/pandas-docs/stable/user_guide/indexing.html#returning-a-view-versus-a-copy\n",
            "  errors=errors,\n"
          ],
          "name": "stderr"
        }
      ]
    },
    {
      "cell_type": "code",
      "metadata": {
        "colab": {
          "base_uri": "https://localhost:8080/",
          "height": 195
        },
        "id": "QwIu0WDxho10",
        "outputId": "33700bb5-85af-45d3-e74b-38ffdd497254"
      },
      "source": [
        "df_Test.head()"
      ],
      "execution_count": null,
      "outputs": [
        {
          "output_type": "execute_result",
          "data": {
            "text/html": [
              "<div>\n",
              "<style scoped>\n",
              "    .dataframe tbody tr th:only-of-type {\n",
              "        vertical-align: middle;\n",
              "    }\n",
              "\n",
              "    .dataframe tbody tr th {\n",
              "        vertical-align: top;\n",
              "    }\n",
              "\n",
              "    .dataframe thead th {\n",
              "        text-align: right;\n",
              "    }\n",
              "</style>\n",
              "<table border=\"1\" class=\"dataframe\">\n",
              "  <thead>\n",
              "    <tr style=\"text-align: right;\">\n",
              "      <th></th>\n",
              "      <th>team1</th>\n",
              "      <th>team2</th>\n",
              "    </tr>\n",
              "  </thead>\n",
              "  <tbody>\n",
              "    <tr>\n",
              "      <th>15916</th>\n",
              "      <td>4</td>\n",
              "      <td>0</td>\n",
              "    </tr>\n",
              "    <tr>\n",
              "      <th>15917</th>\n",
              "      <td>4</td>\n",
              "      <td>0</td>\n",
              "    </tr>\n",
              "    <tr>\n",
              "      <th>15918</th>\n",
              "      <td>4</td>\n",
              "      <td>0</td>\n",
              "    </tr>\n",
              "    <tr>\n",
              "      <th>15919</th>\n",
              "      <td>4</td>\n",
              "      <td>0</td>\n",
              "    </tr>\n",
              "    <tr>\n",
              "      <th>15920</th>\n",
              "      <td>4</td>\n",
              "      <td>0</td>\n",
              "    </tr>\n",
              "  </tbody>\n",
              "</table>\n",
              "</div>"
            ],
            "text/plain": [
              "       team1  team2\n",
              "15916      4      0\n",
              "15917      4      0\n",
              "15918      4      0\n",
              "15919      4      0\n",
              "15920      4      0"
            ]
          },
          "metadata": {
            "tags": []
          },
          "execution_count": 57
        }
      ]
    },
    {
      "cell_type": "code",
      "metadata": {
        "id": "W2sJ1NWZhqrl"
      },
      "source": [
        "X_train=df_Train.drop(['Total Points'],axis=1)\r\n",
        "y_train=df_Train['Total Points']"
      ],
      "execution_count": null,
      "outputs": []
    },
    {
      "cell_type": "code",
      "metadata": {
        "colab": {
          "base_uri": "https://localhost:8080/"
        },
        "id": "m4A6XRh6h2AD",
        "outputId": "3d8d5345-6c37-4493-c75b-d7879a991330"
      },
      "source": [
        "lg.fit(X_train,y_train)\r\n"
      ],
      "execution_count": null,
      "outputs": [
        {
          "output_type": "execute_result",
          "data": {
            "text/plain": [
              "LinearRegression(copy_X=True, fit_intercept=True, n_jobs=None, normalize=False)"
            ]
          },
          "metadata": {
            "tags": []
          },
          "execution_count": 59
        }
      ]
    },
    {
      "cell_type": "code",
      "metadata": {
        "id": "LrtqxtMbiDs-"
      },
      "source": [
        "y_pred=lg.predict(df_Test)"
      ],
      "execution_count": null,
      "outputs": []
    },
    {
      "cell_type": "code",
      "metadata": {
        "colab": {
          "base_uri": "https://localhost:8080/"
        },
        "id": "JMPk5iPqiH81",
        "outputId": "b71df182-cb1d-4ca5-e731-f8c7a90f70ae"
      },
      "source": [
        "y_pred.shape"
      ],
      "execution_count": null,
      "outputs": [
        {
          "output_type": "execute_result",
          "data": {
            "text/plain": [
              "(1283,)"
            ]
          },
          "metadata": {
            "tags": []
          },
          "execution_count": 61
        }
      ]
    },
    {
      "cell_type": "code",
      "metadata": {
        "colab": {
          "base_uri": "https://localhost:8080/"
        },
        "id": "G89FaljQiK_H",
        "outputId": "d45a5fc1-b9ca-4330-f22f-35e8b3d4cb30"
      },
      "source": [
        "y_pred"
      ],
      "execution_count": null,
      "outputs": [
        {
          "output_type": "execute_result",
          "data": {
            "text/plain": [
              "array([30.27684895, 30.27684895, 30.27684895, ..., 30.07900446,\n",
              "       30.07900446, 30.07900446])"
            ]
          },
          "metadata": {
            "tags": []
          },
          "execution_count": 62
        }
      ]
    },
    {
      "cell_type": "code",
      "metadata": {
        "id": "Tb0qEYPWiMxy"
      },
      "source": [
        "sub=pd.DataFrame(y_pred)\r\n",
        "submission=pd.concat([test['Id'],sub],axis=1)\r\n",
        "submission.columns=['Id','Total Points']"
      ],
      "execution_count": null,
      "outputs": []
    },
    {
      "cell_type": "code",
      "metadata": {
        "id": "4j3UQzwhiRTS"
      },
      "source": [
        "submission.to_csv('predict.csv',index=False)"
      ],
      "execution_count": null,
      "outputs": []
    },
    {
      "cell_type": "code",
      "metadata": {
        "colab": {
          "base_uri": "https://localhost:8080/",
          "height": 195
        },
        "id": "dbYWwepuiULd",
        "outputId": "983e185e-6e26-44fa-ffec-376dca74cce2"
      },
      "source": [
        "submission.tail()"
      ],
      "execution_count": null,
      "outputs": [
        {
          "output_type": "execute_result",
          "data": {
            "text/html": [
              "<div>\n",
              "<style scoped>\n",
              "    .dataframe tbody tr th:only-of-type {\n",
              "        vertical-align: middle;\n",
              "    }\n",
              "\n",
              "    .dataframe tbody tr th {\n",
              "        vertical-align: top;\n",
              "    }\n",
              "\n",
              "    .dataframe thead th {\n",
              "        text-align: right;\n",
              "    }\n",
              "</style>\n",
              "<table border=\"1\" class=\"dataframe\">\n",
              "  <thead>\n",
              "    <tr style=\"text-align: right;\">\n",
              "      <th></th>\n",
              "      <th>Id</th>\n",
              "      <th>Total Points</th>\n",
              "    </tr>\n",
              "  </thead>\n",
              "  <tbody>\n",
              "    <tr>\n",
              "      <th>1278</th>\n",
              "      <td>1237181_S Hetmyer</td>\n",
              "      <td>30.079004</td>\n",
              "    </tr>\n",
              "    <tr>\n",
              "      <th>1279</th>\n",
              "      <td>1237181_SA Yadav</td>\n",
              "      <td>30.079004</td>\n",
              "    </tr>\n",
              "    <tr>\n",
              "      <th>1280</th>\n",
              "      <td>1237181_SS Iyer</td>\n",
              "      <td>30.079004</td>\n",
              "    </tr>\n",
              "    <tr>\n",
              "      <th>1281</th>\n",
              "      <td>1237181_SS Tiwary</td>\n",
              "      <td>30.079004</td>\n",
              "    </tr>\n",
              "    <tr>\n",
              "      <th>1282</th>\n",
              "      <td>1237181_TA Boult</td>\n",
              "      <td>30.079004</td>\n",
              "    </tr>\n",
              "  </tbody>\n",
              "</table>\n",
              "</div>"
            ],
            "text/plain": [
              "                     Id  Total Points\n",
              "1278  1237181_S Hetmyer     30.079004\n",
              "1279   1237181_SA Yadav     30.079004\n",
              "1280    1237181_SS Iyer     30.079004\n",
              "1281  1237181_SS Tiwary     30.079004\n",
              "1282   1237181_TA Boult     30.079004"
            ]
          },
          "metadata": {
            "tags": []
          },
          "execution_count": 65
        }
      ]
    },
    {
      "cell_type": "code",
      "metadata": {
        "id": "k4VEZTr7iWBF"
      },
      "source": [
        ""
      ],
      "execution_count": null,
      "outputs": []
    }
  ]
}